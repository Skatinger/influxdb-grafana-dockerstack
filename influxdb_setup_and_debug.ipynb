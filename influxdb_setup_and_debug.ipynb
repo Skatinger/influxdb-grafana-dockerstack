{
 "cells": [
  {
   "cell_type": "code",
   "execution_count": 1,
   "metadata": {},
   "outputs": [],
   "source": [
    "from influxdb import InfluxDBClient"
   ]
  },
  {
   "cell_type": "code",
   "execution_count": 2,
   "metadata": {},
   "outputs": [],
   "source": [
    "client = InfluxDBClient(host='localhost', port=8086)"
   ]
  },
  {
   "cell_type": "code",
   "execution_count": 3,
   "metadata": {},
   "outputs": [
    {
     "name": "stdout",
     "output_type": "stream",
     "text": [
      "<influxdb.client.InfluxDBClient object at 0x7fab1b3718d0>\n"
     ]
    }
   ],
   "source": [
    "print(client)"
   ]
  },
  {
   "cell_type": "code",
   "execution_count": 8,
   "metadata": {},
   "outputs": [],
   "source": [
    "client.create_database('pyexample')"
   ]
  },
  {
   "cell_type": "code",
   "execution_count": 14,
   "metadata": {},
   "outputs": [],
   "source": [
    "client.switch_database('pyexample')"
   ]
  },
  {
   "cell_type": "code",
   "execution_count": 12,
   "metadata": {},
   "outputs": [],
   "source": [
    "json_body = [\n",
    "    {\n",
    "        \"measurement\": \"brushEvents\",\n",
    "        \"tags\": {\n",
    "            \"user\": \"Carol\",\n",
    "            \"brushId\": \"6c89f539-71c6-490d-a28d-6c5d84c0ee2f\"\n",
    "        },\n",
    "        \"time\": \"2018-03-28T8:01:00Z\",\n",
    "        \"fields\": {\n",
    "            \"duration\": 127\n",
    "        }\n",
    "    },\n",
    "    {\n",
    "        \"measurement\": \"brushEvents\",\n",
    "        \"tags\": {\n",
    "            \"user\": \"Carol\",\n",
    "            \"brushId\": \"6c89f539-71c6-490d-a28d-6c5d84c0ee2f\"\n",
    "        },\n",
    "        \"time\": \"2018-03-29T8:04:00Z\",\n",
    "        \"fields\": {\n",
    "            \"duration\": 132\n",
    "        }\n",
    "    },\n",
    "    {\n",
    "        \"measurement\": \"brushEvents\",\n",
    "        \"tags\": {\n",
    "            \"user\": \"Carol\",\n",
    "            \"brushId\": \"6c89f539-71c6-490d-a28d-6c5d84c0ee2f\"\n",
    "        },\n",
    "        \"time\": \"2018-03-30T8:02:00Z\",\n",
    "        \"fields\": {\n",
    "            \"duration\": 129\n",
    "        }\n",
    "    }\n",
    "]"
   ]
  },
  {
   "cell_type": "code",
   "execution_count": 38,
   "metadata": {},
   "outputs": [],
   "source": [
    "test = [{\"measurement\": \"test_temperature\",\n",
    "         \"tags\": {\"room\": \"room1\", \"id\": \"1\"},\n",
    "         \"time\": \"2020-05-12T8:11:00Z\",\n",
    "         \"fields\": { \"temperature\": \"22\"}\n",
    "        },\n",
    "       {\"measurement\": \"test_temperature\",\n",
    "         \"tags\": {\"room\": \"room1\", \"id\": \"2\"},\n",
    "         \"time\": \"2020-05-12T8:13:00Z\",\n",
    "         \"fields\": { \"temperature\": \"25\"}\n",
    "        },\n",
    "       {\"measurement\": \"test_temperature\",\n",
    "         \"tags\": {\"room\": \"room1\", \"id\": \"3\"},\n",
    "         \"time\": \"2020-05-12T8:14:00Z\",\n",
    "         \"fields\": { \"temperature\": \"24\"}\n",
    "        },\n",
    "       {\"measurement\": \"test_temperature\",\n",
    "         \"tags\": {\"room\": \"room1\", \"id\": \"4\"},\n",
    "         \"time\": \"2020-05-12T8:15:00Z\",\n",
    "         \"fields\": { \"temperature\": \"23\"}\n",
    "        },\n",
    "       {\"measurement\": \"test_temperature\",\n",
    "         \"tags\": {\"room\": \"room1\", \"id\": \"5\"},\n",
    "         \"time\": \"2020-05-12T8:17:00Z\",\n",
    "         \"fields\": { \"temperature\": \"26\"}\n",
    "        }]"
   ]
  },
  {
   "cell_type": "code",
   "execution_count": 39,
   "metadata": {},
   "outputs": [
    {
     "data": {
      "text/plain": [
       "True"
      ]
     },
     "execution_count": 39,
     "metadata": {},
     "output_type": "execute_result"
    }
   ],
   "source": [
    "client.write_points(test)"
   ]
  },
  {
   "cell_type": "code",
   "execution_count": 21,
   "metadata": {},
   "outputs": [],
   "source": [
    "test = b'45'"
   ]
  },
  {
   "cell_type": "code",
   "execution_count": 23,
   "metadata": {},
   "outputs": [
    {
     "data": {
      "text/plain": [
       "'45'"
      ]
     },
     "execution_count": 23,
     "metadata": {},
     "output_type": "execute_result"
    }
   ],
   "source": [
    "test.decode(\"ascii\")"
   ]
  },
  {
   "cell_type": "code",
   "execution_count": 43,
   "metadata": {},
   "outputs": [
    {
     "data": {
      "text/plain": [
       "True"
      ]
     },
     "execution_count": 43,
     "metadata": {},
     "output_type": "execute_result"
    }
   ],
   "source": [
    "client.write_points([{\"measurement\": \"room_temperature\", \"time\": \"2020-05-12T8:09:00Z\",\n",
    "         \"fields\": { \"temperature\": \"25\"}}])"
   ]
  },
  {
   "cell_type": "code",
   "execution_count": 47,
   "metadata": {},
   "outputs": [
    {
     "data": {
      "text/plain": [
       "{'statement_id': 0,\n",
       " 'series': [{'name': 'room_temperature',\n",
       "   'columns': ['time', 'temperature'],\n",
       "   'values': [['2020-05-12T08:09:00Z', '25'],\n",
       "    ['2020-08-05T11:55:05Z', '23.6'],\n",
       "    ['2020-08-05T11:55:15Z', '23.6'],\n",
       "    ['2020-08-05T11:55:25Z', '23.6'],\n",
       "    ['2020-08-05T11:55:35Z', '23.6'],\n",
       "    ['2020-08-05T11:55:45Z', '23.6'],\n",
       "    ['2020-08-05T11:55:55Z', '23.6'],\n",
       "    ['2020-08-05T11:56:05Z', '23.6'],\n",
       "    ['2020-08-05T11:56:15Z', '23.6'],\n",
       "    ['2020-08-05T11:56:25Z', '23.6'],\n",
       "    ['2020-08-05T11:56:35Z', '23.6'],\n",
       "    ['2020-08-05T11:56:45Z', '23.6'],\n",
       "    ['2020-08-05T11:56:55Z', '25.5'],\n",
       "    ['2020-08-05T11:57:05Z', '27.4'],\n",
       "    ['2020-08-05T11:57:15Z', '28.2'],\n",
       "    ['2020-08-05T11:57:25Z', '28.7'],\n",
       "    ['2020-08-05T11:57:35Z', '27.6'],\n",
       "    ['2020-08-05T11:57:45Z', '26.2'],\n",
       "    ['2020-08-05T11:57:55Z', '25.5'],\n",
       "    ['2020-08-05T11:58:05Z', '25.0'],\n",
       "    ['2020-08-05T11:58:15Z', '24.7'],\n",
       "    ['2020-08-05T11:58:25Z', '24.5'],\n",
       "    ['2020-08-05T11:58:35Z', '24.2'],\n",
       "    ['2020-08-05T11:58:45Z', '24.1'],\n",
       "    ['2020-08-05T11:58:55Z', '24.0'],\n",
       "    ['2020-08-05T11:59:05Z', '23.8'],\n",
       "    ['2020-08-05T11:59:15Z', '23.8'],\n",
       "    ['2020-08-05T11:59:25Z', '23.7'],\n",
       "    ['2020-08-05T11:59:35Z', '23.7'],\n",
       "    ['2020-08-05T11:59:45Z', '23.6'],\n",
       "    ['2020-08-05T11:59:55Z', '23.6'],\n",
       "    ['2020-08-05T12:00:05Z', '23.7'],\n",
       "    ['2020-08-05T12:00:15Z', '23.7'],\n",
       "    ['2020-08-05T12:00:25Z', '23.7'],\n",
       "    ['2020-08-05T12:00:35Z', '23.7'],\n",
       "    ['2020-08-05T12:00:45Z', '23.7'],\n",
       "    ['2020-08-05T12:00:55Z', '23.7'],\n",
       "    ['2020-08-05T12:01:05Z', '23.7'],\n",
       "    ['2020-08-05T12:01:15Z', '23.7'],\n",
       "    ['2020-08-05T12:01:25Z', '23.7'],\n",
       "    ['2020-08-05T12:01:35Z', '23.7'],\n",
       "    ['2020-08-05T12:01:45Z', '23.7'],\n",
       "    ['2020-08-05T12:05:05Z', '23.7'],\n",
       "    ['2020-08-05T12:05:15Z', '23.7'],\n",
       "    ['2020-08-05T12:05:25Z', '23.7'],\n",
       "    ['2020-08-05T12:05:35Z', '23.7']]}]}"
      ]
     },
     "execution_count": 47,
     "metadata": {},
     "output_type": "execute_result"
    }
   ],
   "source": [
    "results = client.query('SELECT \"temperature\" FROM \"pyexample\".\"autogen\".\"room_temperature\"')\n",
    "results.raw"
   ]
  },
  {
   "cell_type": "code",
   "execution_count": 34,
   "metadata": {},
   "outputs": [
    {
     "data": {
      "text/plain": [
       "True"
      ]
     },
     "execution_count": 34,
     "metadata": {},
     "output_type": "execute_result"
    }
   ],
   "source": [
    "client.write_points([{'measurement': 'test_temperature', 'tags': {'room': 'room1', 'id': '6'}, 'time': '2020-08-05T11:44:25Z', 'fields': {'temperature': '53.6'}}]\n",
    ")"
   ]
  },
  {
   "cell_type": "code",
   "execution_count": 37,
   "metadata": {},
   "outputs": [
    {
     "data": {
      "text/plain": [
       "{'statement_id': 0,\n",
       " 'series': [{'name': 'test_temperature',\n",
       "   'columns': ['time', 'temperature'],\n",
       "   'values': [['2020-05-12T08:01:00Z', '22'],\n",
       "    ['2020-05-12T08:03:00Z', '25'],\n",
       "    ['2020-05-12T08:04:00Z', '24'],\n",
       "    ['2020-05-12T08:05:00Z', '23'],\n",
       "    ['2020-05-12T08:07:00Z', '26'],\n",
       "    ['2020-05-12T08:09:00Z', '25'],\n",
       "    ['2020-05-12T08:09:00Z', \"b'23.5'\"],\n",
       "    ['2020-08-05T11:31:45Z', \"b'23.6'\"],\n",
       "    ['2020-08-05T11:31:55Z', \"b'23.5'\"],\n",
       "    ['2020-08-05T11:32:05Z', \"b'23.5'\"],\n",
       "    ['2020-08-05T11:32:15Z', \"b'23.5'\"],\n",
       "    ['2020-08-05T11:32:25Z', \"b'23.6'\"],\n",
       "    ['2020-08-05T11:32:35Z', \"b'23.5'\"],\n",
       "    ['2020-08-05T11:32:45Z', \"b'23.6'\"],\n",
       "    ['2020-08-05T11:32:55Z', \"b'23.6'\"],\n",
       "    ['2020-08-05T11:33:05Z', \"b'23.6'\"],\n",
       "    ['2020-08-05T11:34:45Z', '23.6'],\n",
       "    ['2020-08-05T11:34:55Z', '23.6'],\n",
       "    ['2020-08-05T11:35:05Z', '23.5'],\n",
       "    ['2020-08-05T11:35:15Z', '23.5'],\n",
       "    ['2020-08-05T11:35:25Z', '23.5'],\n",
       "    ['2020-08-05T11:35:35Z', '23.6'],\n",
       "    ['2020-08-05T11:35:45Z', '23.5'],\n",
       "    ['2020-08-05T11:35:55Z', '23.6'],\n",
       "    ['2020-08-05T11:36:05Z', '23.5'],\n",
       "    ['2020-08-05T11:36:15Z', '23.5'],\n",
       "    ['2020-08-05T11:36:25Z', '23.6'],\n",
       "    ['2020-08-05T11:36:35Z', '23.5'],\n",
       "    ['2020-08-05T11:36:45Z', '23.6'],\n",
       "    ['2020-08-05T11:36:55Z', '23.6'],\n",
       "    ['2020-08-05T11:37:05Z', '23.5'],\n",
       "    ['2020-08-05T11:37:15Z', '23.5'],\n",
       "    ['2020-08-05T11:37:25Z', '23.6'],\n",
       "    ['2020-08-05T11:37:35Z', '23.6'],\n",
       "    ['2020-08-05T11:37:45Z', '23.5'],\n",
       "    ['2020-08-05T11:37:55Z', '23.5'],\n",
       "    ['2020-08-05T11:38:05Z', '23.6'],\n",
       "    ['2020-08-05T11:38:15Z', '23.6'],\n",
       "    ['2020-08-05T11:38:25Z', '23.6'],\n",
       "    ['2020-08-05T11:38:35Z', '23.6'],\n",
       "    ['2020-08-05T11:38:45Z', '23.6'],\n",
       "    ['2020-08-05T11:38:55Z', '23.6'],\n",
       "    ['2020-08-05T11:39:05Z', '23.6'],\n",
       "    ['2020-08-05T11:39:15Z', '23.6'],\n",
       "    ['2020-08-05T11:39:25Z', '23.5'],\n",
       "    ['2020-08-05T11:39:35Z', '23.6'],\n",
       "    ['2020-08-05T11:39:45Z', '23.6'],\n",
       "    ['2020-08-05T11:39:55Z', '23.6'],\n",
       "    ['2020-08-05T11:40:05Z', '23.6'],\n",
       "    ['2020-08-05T11:40:15Z', '23.6'],\n",
       "    ['2020-08-05T11:40:25Z', '23.6'],\n",
       "    ['2020-08-05T11:40:35Z', '23.6'],\n",
       "    ['2020-08-05T11:40:45Z', '23.6'],\n",
       "    ['2020-08-05T11:40:55Z', '23.6'],\n",
       "    ['2020-08-05T11:41:05Z', '23.6'],\n",
       "    ['2020-08-05T11:41:15Z', '23.6'],\n",
       "    ['2020-08-05T11:41:25Z', '23.6'],\n",
       "    ['2020-08-05T11:41:35Z', '23.6'],\n",
       "    ['2020-08-05T11:41:45Z', '23.6'],\n",
       "    ['2020-08-05T11:41:55Z', '23.5'],\n",
       "    ['2020-08-05T11:42:05Z', '23.6'],\n",
       "    ['2020-08-05T11:42:15Z', '23.6'],\n",
       "    ['2020-08-05T11:42:25Z', '23.6'],\n",
       "    ['2020-08-05T11:42:35Z', '23.6'],\n",
       "    ['2020-08-05T11:42:45Z', '23.6'],\n",
       "    ['2020-08-05T11:42:55Z', '23.6'],\n",
       "    ['2020-08-05T11:43:25Z', '23.6'],\n",
       "    ['2020-08-05T11:43:35Z', '23.6'],\n",
       "    ['2020-08-05T11:43:45Z', '23.6'],\n",
       "    ['2020-08-05T11:43:55Z', '23.6'],\n",
       "    ['2020-08-05T11:44:05Z', '23.6'],\n",
       "    ['2020-08-05T11:44:15Z', '23.6'],\n",
       "    ['2020-08-05T11:44:25Z', '53.6'],\n",
       "    ['2020-08-05T11:45:45Z', '23.6'],\n",
       "    ['2020-08-05T11:45:55Z', '23.6'],\n",
       "    ['2020-08-05T11:46:05Z', '23.6']]}]}"
      ]
     },
     "execution_count": 37,
     "metadata": {},
     "output_type": "execute_result"
    }
   ],
   "source": [
    "results = client.query('SELECT \"temperature\" FROM \"pyexample\".\"autogen\".\"test_temperature\"')\n",
    "results.raw"
   ]
  },
  {
   "cell_type": "code",
   "execution_count": 42,
   "metadata": {},
   "outputs": [
    {
     "ename": "InfluxDBClientError",
     "evalue": "400: {\"error\":\"error parsing query: retention policy not supported at line 1, char 1\"}",
     "output_type": "error",
     "traceback": [
      "\u001b[0;31m---------------------------------------------------------------------------\u001b[0m",
      "\u001b[0;31mInfluxDBClientError\u001b[0m                       Traceback (most recent call last)",
      "\u001b[0;32m<ipython-input-42-1cd1a1d6b6f3>\u001b[0m in \u001b[0;36m<module>\u001b[0;34m\u001b[0m\n\u001b[0;32m----> 1\u001b[0;31m \u001b[0mclient\u001b[0m\u001b[0;34m.\u001b[0m\u001b[0mquery\u001b[0m\u001b[0;34m(\u001b[0m\u001b[0;34m'DELETE FROM \"pyexample\".\"test_temperature\" WHERE time < now()'\u001b[0m\u001b[0;34m)\u001b[0m\u001b[0;34m\u001b[0m\u001b[0;34m\u001b[0m\u001b[0m\n\u001b[0m",
      "\u001b[0;32m~/miniconda3/lib/python3.7/site-packages/influxdb/client.py\u001b[0m in \u001b[0;36mquery\u001b[0;34m(self, query, params, bind_params, epoch, expected_response_code, database, raise_errors, chunked, chunk_size, method)\u001b[0m\n\u001b[1;32m    516\u001b[0m             \u001b[0mdata\u001b[0m\u001b[0;34m=\u001b[0m\u001b[0;32mNone\u001b[0m\u001b[0;34m,\u001b[0m\u001b[0;34m\u001b[0m\u001b[0;34m\u001b[0m\u001b[0m\n\u001b[1;32m    517\u001b[0m             \u001b[0mstream\u001b[0m\u001b[0;34m=\u001b[0m\u001b[0mchunked\u001b[0m\u001b[0;34m,\u001b[0m\u001b[0;34m\u001b[0m\u001b[0;34m\u001b[0m\u001b[0m\n\u001b[0;32m--> 518\u001b[0;31m             \u001b[0mexpected_response_code\u001b[0m\u001b[0;34m=\u001b[0m\u001b[0mexpected_response_code\u001b[0m\u001b[0;34m\u001b[0m\u001b[0;34m\u001b[0m\u001b[0m\n\u001b[0m\u001b[1;32m    519\u001b[0m         )\n\u001b[1;32m    520\u001b[0m \u001b[0;34m\u001b[0m\u001b[0m\n",
      "\u001b[0;32m~/miniconda3/lib/python3.7/site-packages/influxdb/client.py\u001b[0m in \u001b[0;36mrequest\u001b[0;34m(self, url, method, params, data, stream, expected_response_code, headers)\u001b[0m\n\u001b[1;32m    367\u001b[0m         \u001b[0;32melse\u001b[0m\u001b[0;34m:\u001b[0m\u001b[0;34m\u001b[0m\u001b[0;34m\u001b[0m\u001b[0m\n\u001b[1;32m    368\u001b[0m             \u001b[0merr_msg\u001b[0m \u001b[0;34m=\u001b[0m \u001b[0mreformat_error\u001b[0m\u001b[0;34m(\u001b[0m\u001b[0mresponse\u001b[0m\u001b[0;34m)\u001b[0m\u001b[0;34m\u001b[0m\u001b[0;34m\u001b[0m\u001b[0m\n\u001b[0;32m--> 369\u001b[0;31m             \u001b[0;32mraise\u001b[0m \u001b[0mInfluxDBClientError\u001b[0m\u001b[0;34m(\u001b[0m\u001b[0merr_msg\u001b[0m\u001b[0;34m,\u001b[0m \u001b[0mresponse\u001b[0m\u001b[0;34m.\u001b[0m\u001b[0mstatus_code\u001b[0m\u001b[0;34m)\u001b[0m\u001b[0;34m\u001b[0m\u001b[0;34m\u001b[0m\u001b[0m\n\u001b[0m\u001b[1;32m    370\u001b[0m \u001b[0;34m\u001b[0m\u001b[0m\n\u001b[1;32m    371\u001b[0m     def write(self, data, params=None, expected_response_code=204,\n",
      "\u001b[0;31mInfluxDBClientError\u001b[0m: 400: {\"error\":\"error parsing query: retention policy not supported at line 1, char 1\"}"
     ]
    }
   ],
   "source": [
    "client.query('DELETE FROM \"pyexample\".\"test_temperature\" WHERE time < now()')"
   ]
  },
  {
   "cell_type": "code",
   "execution_count": 15,
   "metadata": {},
   "outputs": [
    {
     "data": {
      "text/plain": [
       "True"
      ]
     },
     "execution_count": 15,
     "metadata": {},
     "output_type": "execute_result"
    }
   ],
   "source": [
    "client.write_points(json_body)"
   ]
  },
  {
   "cell_type": "code",
   "execution_count": 12,
   "metadata": {},
   "outputs": [],
   "source": [
    "results = client.query('SELECT \"duration\" FROM \"pyexample\".\"autogen\".\"brushEvents\" GROUP BY \"user\"')"
   ]
  },
  {
   "cell_type": "code",
   "execution_count": 13,
   "metadata": {},
   "outputs": [
    {
     "data": {
      "text/plain": [
       "{'statement_id': 0,\n",
       " 'series': [{'name': 'brushEvents',\n",
       "   'tags': {'user': 'Carol'},\n",
       "   'columns': ['time', 'duration'],\n",
       "   'values': [['2018-03-28T08:01:00Z', 127],\n",
       "    ['2018-03-29T08:04:00Z', 132],\n",
       "    ['2018-03-30T08:02:00Z', 129]]}]}"
      ]
     },
     "execution_count": 13,
     "metadata": {},
     "output_type": "execute_result"
    }
   ],
   "source": [
    "results.raw"
   ]
  },
  {
   "cell_type": "code",
   "execution_count": 16,
   "metadata": {},
   "outputs": [],
   "source": [
    "points = results.get_points(tags={'user':'Carol'})"
   ]
  },
  {
   "cell_type": "code",
   "execution_count": 17,
   "metadata": {},
   "outputs": [
    {
     "name": "stdout",
     "output_type": "stream",
     "text": [
      "Time: 2018-03-28T08:01:00Z, Duration: 127\n",
      "Time: 2018-03-29T08:04:00Z, Duration: 132\n",
      "Time: 2018-03-30T08:02:00Z, Duration: 129\n"
     ]
    }
   ],
   "source": [
    "for point in points:\n",
    "     print(\"Time: %s, Duration: %i\" % (point['time'], point['duration']))"
   ]
  },
  {
   "cell_type": "code",
   "execution_count": 18,
   "metadata": {},
   "outputs": [
    {
     "ename": "InfluxDBClientError",
     "evalue": "retention policy not found: pyexample",
     "output_type": "error",
     "traceback": [
      "\u001b[0;31m---------------------------------------------------------------------------\u001b[0m",
      "\u001b[0;31mInfluxDBClientError\u001b[0m                       Traceback (most recent call last)",
      "\u001b[0;32m<ipython-input-18-1e81f535872a>\u001b[0m in \u001b[0;36m<module>\u001b[0;34m\u001b[0m\n\u001b[0;32m----> 1\u001b[0;31m \u001b[0mresults\u001b[0m \u001b[0;34m=\u001b[0m \u001b[0mclient\u001b[0m\u001b[0;34m.\u001b[0m\u001b[0mquery\u001b[0m\u001b[0;34m(\u001b[0m\u001b[0;34m'SELECT * FROM \"pyexample\".\"temperature\"'\u001b[0m\u001b[0;34m)\u001b[0m\u001b[0;34m\u001b[0m\u001b[0;34m\u001b[0m\u001b[0m\n\u001b[0m",
      "\u001b[0;32m~/miniconda3/lib/python3.7/site-packages/influxdb/client.py\u001b[0m in \u001b[0;36mquery\u001b[0;34m(self, query, params, bind_params, epoch, expected_response_code, database, raise_errors, chunked, chunk_size, method)\u001b[0m\n\u001b[1;32m    528\u001b[0m             \u001b[0mResultSet\u001b[0m\u001b[0;34m(\u001b[0m\u001b[0mresult\u001b[0m\u001b[0;34m,\u001b[0m \u001b[0mraise_errors\u001b[0m\u001b[0;34m=\u001b[0m\u001b[0mraise_errors\u001b[0m\u001b[0;34m)\u001b[0m\u001b[0;34m\u001b[0m\u001b[0;34m\u001b[0m\u001b[0m\n\u001b[1;32m    529\u001b[0m             \u001b[0;32mfor\u001b[0m \u001b[0mresult\u001b[0m\u001b[0;34m\u001b[0m\u001b[0;34m\u001b[0m\u001b[0m\n\u001b[0;32m--> 530\u001b[0;31m             \u001b[0;32min\u001b[0m \u001b[0mdata\u001b[0m\u001b[0;34m.\u001b[0m\u001b[0mget\u001b[0m\u001b[0;34m(\u001b[0m\u001b[0;34m'results'\u001b[0m\u001b[0;34m,\u001b[0m \u001b[0;34m[\u001b[0m\u001b[0;34m]\u001b[0m\u001b[0;34m)\u001b[0m\u001b[0;34m\u001b[0m\u001b[0;34m\u001b[0m\u001b[0m\n\u001b[0m\u001b[1;32m    531\u001b[0m         ]\n\u001b[1;32m    532\u001b[0m \u001b[0;34m\u001b[0m\u001b[0m\n",
      "\u001b[0;32m~/miniconda3/lib/python3.7/site-packages/influxdb/client.py\u001b[0m in \u001b[0;36m<listcomp>\u001b[0;34m(.0)\u001b[0m\n\u001b[1;32m    527\u001b[0m         results = [\n\u001b[1;32m    528\u001b[0m             \u001b[0mResultSet\u001b[0m\u001b[0;34m(\u001b[0m\u001b[0mresult\u001b[0m\u001b[0;34m,\u001b[0m \u001b[0mraise_errors\u001b[0m\u001b[0;34m=\u001b[0m\u001b[0mraise_errors\u001b[0m\u001b[0;34m)\u001b[0m\u001b[0;34m\u001b[0m\u001b[0;34m\u001b[0m\u001b[0m\n\u001b[0;32m--> 529\u001b[0;31m             \u001b[0;32mfor\u001b[0m \u001b[0mresult\u001b[0m\u001b[0;34m\u001b[0m\u001b[0;34m\u001b[0m\u001b[0m\n\u001b[0m\u001b[1;32m    530\u001b[0m             \u001b[0;32min\u001b[0m \u001b[0mdata\u001b[0m\u001b[0;34m.\u001b[0m\u001b[0mget\u001b[0m\u001b[0;34m(\u001b[0m\u001b[0;34m'results'\u001b[0m\u001b[0;34m,\u001b[0m \u001b[0;34m[\u001b[0m\u001b[0;34m]\u001b[0m\u001b[0;34m)\u001b[0m\u001b[0;34m\u001b[0m\u001b[0;34m\u001b[0m\u001b[0m\n\u001b[1;32m    531\u001b[0m         ]\n",
      "\u001b[0;32m~/miniconda3/lib/python3.7/site-packages/influxdb/resultset.py\u001b[0m in \u001b[0;36m__init__\u001b[0;34m(self, series, raise_errors)\u001b[0m\n\u001b[1;32m     23\u001b[0m \u001b[0;34m\u001b[0m\u001b[0m\n\u001b[1;32m     24\u001b[0m         \u001b[0;32mif\u001b[0m \u001b[0mself\u001b[0m\u001b[0;34m.\u001b[0m\u001b[0merror\u001b[0m \u001b[0;32mis\u001b[0m \u001b[0;32mnot\u001b[0m \u001b[0;32mNone\u001b[0m \u001b[0;32mand\u001b[0m \u001b[0mraise_errors\u001b[0m \u001b[0;32mis\u001b[0m \u001b[0;32mTrue\u001b[0m\u001b[0;34m:\u001b[0m\u001b[0;34m\u001b[0m\u001b[0;34m\u001b[0m\u001b[0m\n\u001b[0;32m---> 25\u001b[0;31m             \u001b[0;32mraise\u001b[0m \u001b[0mInfluxDBClientError\u001b[0m\u001b[0;34m(\u001b[0m\u001b[0mself\u001b[0m\u001b[0;34m.\u001b[0m\u001b[0merror\u001b[0m\u001b[0;34m)\u001b[0m\u001b[0;34m\u001b[0m\u001b[0;34m\u001b[0m\u001b[0m\n\u001b[0m\u001b[1;32m     26\u001b[0m \u001b[0;34m\u001b[0m\u001b[0m\n\u001b[1;32m     27\u001b[0m     \u001b[0;34m@\u001b[0m\u001b[0mproperty\u001b[0m\u001b[0;34m\u001b[0m\u001b[0;34m\u001b[0m\u001b[0m\n",
      "\u001b[0;31mInfluxDBClientError\u001b[0m: retention policy not found: pyexample"
     ]
    }
   ],
   "source": [
    "results = client.query('SELECT * FROM \"pyexample\".\"temperature\"')"
   ]
  },
  {
   "cell_type": "code",
   "execution_count": null,
   "metadata": {},
   "outputs": [],
   "source": []
  },
  {
   "cell_type": "code",
   "execution_count": null,
   "metadata": {},
   "outputs": [],
   "source": []
  }
 ],
 "metadata": {
  "kernelspec": {
   "display_name": "Python 3",
   "language": "python",
   "name": "python3"
  },
  "language_info": {
   "codemirror_mode": {
    "name": "ipython",
    "version": 3
   },
   "file_extension": ".py",
   "mimetype": "text/x-python",
   "name": "python",
   "nbconvert_exporter": "python",
   "pygments_lexer": "ipython3",
   "version": "3.7.6"
  }
 },
 "nbformat": 4,
 "nbformat_minor": 4
}
